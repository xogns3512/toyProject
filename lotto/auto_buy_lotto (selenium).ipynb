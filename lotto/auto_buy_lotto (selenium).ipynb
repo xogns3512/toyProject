{
 "cells": [
  {
   "cell_type": "markdown",
   "metadata": {},
   "source": [
    "https://nanchachaa.tistory.com/23"
   ]
  },
  {
   "cell_type": "markdown",
   "metadata": {},
   "source": [
    "로또번호 추첨"
   ]
  },
  {
   "cell_type": "code",
   "execution_count": 1,
   "metadata": {},
   "outputs": [],
   "source": [
    "import warnings\n",
    "\n",
    "warnings.filterwarnings( 'ignore' )"
   ]
  },
  {
   "cell_type": "code",
   "execution_count": 2,
   "metadata": {},
   "outputs": [
    {
     "name": "stdout",
     "output_type": "stream",
     "text": [
      "['CDwindow-458E3781D5F28B7844CBF76E04724B41']\n",
      "100\n",
      "200\n",
      "300\n",
      "400\n",
      "500\n",
      "600\n",
      "700\n",
      "800\n",
      "900\n"
     ]
    },
    {
     "data": {
      "text/plain": [
       "<Figure size 1500x400 with 1 Axes>"
      ]
     },
     "metadata": {},
     "output_type": "display_data"
    },
    {
     "data": {
      "text/plain": [
       "<Figure size 1500x400 with 1 Axes>"
      ]
     },
     "metadata": {},
     "output_type": "display_data"
    },
    {
     "data": {
      "text/plain": [
       "<Figure size 1500x400 with 1 Axes>"
      ]
     },
     "metadata": {},
     "output_type": "display_data"
    },
    {
     "name": "stdout",
     "output_type": "stream",
     "text": [
      "[15, 25, 23, 30, 36, 9] 138\n",
      "128.2279818161216 193.08063541834736\n",
      "[25, 30, 28, 36, 19, 9] 147\n",
      "128.2279818161216 193.08063541834736\n",
      "[9, 36, 28, 41, 11, 32] 157\n",
      "128.2279818161216 193.08063541834736\n",
      "[11, 36, 44, 28, 23, 30] 172\n",
      "128.2279818161216 193.08063541834736\n",
      "[42, 28, 36, 22, 15, 35] 178\n",
      "128.2279818161216 193.08063541834736\n"
     ]
    }
   ],
   "source": [
    "%run (ETL)Lotto_success_num.ipynb"
   ]
  },
  {
   "cell_type": "code",
   "execution_count": 3,
   "metadata": {},
   "outputs": [
    {
     "data": {
      "text/plain": [
       "[[15, 25, 23, 30, 36, 9],\n",
       " [25, 30, 28, 36, 19, 9],\n",
       " [9, 36, 28, 41, 11, 32],\n",
       " [11, 36, 44, 28, 23, 30],\n",
       " [42, 28, 36, 22, 15, 35]]"
      ]
     },
     "execution_count": 3,
     "metadata": {},
     "output_type": "execute_result"
    }
   ],
   "source": [
    "candid_list"
   ]
  },
  {
   "cell_type": "markdown",
   "metadata": {},
   "source": [
    "## 자동화 구매"
   ]
  },
  {
   "cell_type": "code",
   "execution_count": 4,
   "metadata": {},
   "outputs": [],
   "source": [
    "from selenium import webdriver\n",
    "from selenium.webdriver.common.alert import Alert"
   ]
  },
  {
   "cell_type": "code",
   "execution_count": 5,
   "metadata": {},
   "outputs": [],
   "source": [
    "cpath = 'C:/Users/user/Dropbox/Taehoon/github_local/chromedriver'\n",
    "# cpath = 'C:/Users\\/lth3512/OneDrive - NEXON COMPANY/문서/GitHub/chromedriver'\n",
    "driver = webdriver.Chrome(executable_path=cpath)"
   ]
  },
  {
   "cell_type": "code",
   "execution_count": 6,
   "metadata": {},
   "outputs": [],
   "source": [
    "driver.get('https://dhlottery.co.kr/common.do?method=main')"
   ]
  },
  {
   "cell_type": "code",
   "execution_count": 7,
   "metadata": {},
   "outputs": [
    {
     "name": "stdout",
     "output_type": "stream",
     "text": [
      "['CDwindow-30058271FCA7FDACFDE7EBA7F7D35F52', 'CDwindow-7258217F2C55EB71DFF7696D41ABAA05']\n"
     ]
    }
   ],
   "source": [
    "windows_list = driver.window_handles\n",
    "print(windows_list)"
   ]
  },
  {
   "cell_type": "code",
   "execution_count": 8,
   "metadata": {},
   "outputs": [],
   "source": [
    "windows_list = driver.window_handles\n",
    "# print(windows_list) #팝업까지 3개 잡힘\n",
    "cnt = 1\n",
    "for i in range(len(windows_list)-1):\n",
    "    driver.switch_to.window(windows_list[cnt])\n",
    "    driver.close()\n",
    "    cnt+=1"
   ]
  },
  {
   "cell_type": "code",
   "execution_count": 9,
   "metadata": {},
   "outputs": [],
   "source": [
    "main_window = driver.window_handles[0]\n",
    "driver.switch_to.window(main_window)"
   ]
  },
  {
   "cell_type": "code",
   "execution_count": 10,
   "metadata": {},
   "outputs": [],
   "source": [
    "# 로그인 버튼 클릭\n",
    "\n",
    "driver.find_element_by_xpath('/html/body/div[1]/header/div/div[2]/form/div/ul/li[1]/a').click()"
   ]
  },
  {
   "cell_type": "code",
   "execution_count": 11,
   "metadata": {},
   "outputs": [],
   "source": [
    "driver.implicitly_wait(5)"
   ]
  },
  {
   "cell_type": "code",
   "execution_count": 12,
   "metadata": {},
   "outputs": [],
   "source": [
    "driver.find_element_by_xpath('/html/body/div[3]/section/div/div[2]/div/form/div/div[1]/fieldset/div[1]/input[1]').send_keys('')"
   ]
  },
  {
   "cell_type": "code",
   "execution_count": 13,
   "metadata": {},
   "outputs": [],
   "source": [
    "driver.find_element_by_xpath('//*[@id=\"article\"]/div[2]/div/form/div/div[1]/fieldset/div[1]/input[2]').send_keys('')"
   ]
  },
  {
   "cell_type": "code",
   "execution_count": 14,
   "metadata": {},
   "outputs": [],
   "source": [
    "driver.find_element_by_xpath('//*[@id=\"article\"]/div[2]/div/form/div/div[1]/fieldset/div[1]/a').click()"
   ]
  },
  {
   "cell_type": "code",
   "execution_count": 15,
   "metadata": {},
   "outputs": [],
   "source": [
    "windows_list = driver.window_handles\n",
    "# print(windows_list) #팝업까지 3개 잡힘\n",
    "cnt = 1\n",
    "for i in range(len(windows_list)-1):\n",
    "    driver.switch_to.window(windows_list[cnt])\n",
    "    driver.close()\n",
    "    cnt+=1"
   ]
  },
  {
   "cell_type": "code",
   "execution_count": 16,
   "metadata": {},
   "outputs": [],
   "source": [
    "main_window = driver.window_handles[0]\n",
    "driver.switch_to.window(main_window)"
   ]
  },
  {
   "cell_type": "code",
   "execution_count": 17,
   "metadata": {},
   "outputs": [],
   "source": [
    "# 복권구매 GNB 클릭\n",
    "driver.find_element_by_xpath('//*[@id=\"gnb\"]/ul/li[1]/a').click()"
   ]
  },
  {
   "cell_type": "code",
   "execution_count": 18,
   "metadata": {
    "scrolled": true
   },
   "outputs": [],
   "source": [
    "# GNB에서 로또 645 버튼 클릭\n",
    "\n",
    "driver.find_element_by_xpath('//*[@id=\"gnb\"]/ul/li[1]/div/ul/li[1]/a').click() "
   ]
  },
  {
   "cell_type": "code",
   "execution_count": 19,
   "metadata": {},
   "outputs": [],
   "source": [
    "main_window = driver.window_handles[1]\n",
    "driver.switch_to.window(main_window)"
   ]
  },
  {
   "cell_type": "code",
   "execution_count": 20,
   "metadata": {},
   "outputs": [
    {
     "name": "stdout",
     "output_type": "stream",
     "text": [
      "ifrm_tab\n",
      "\n"
     ]
    }
   ],
   "source": [
    "iframes = driver.find_elements_by_css_selector('iframe') #iframe이 여러개 있을 경우를 대비\n",
    "for iframe in iframes:\n",
    "    print(iframe.get_attribute('name')) #iframe들의 이름을 프린트"
   ]
  },
  {
   "cell_type": "code",
   "execution_count": 21,
   "metadata": {},
   "outputs": [],
   "source": [
    "driver.switch_to.frame('ifrm_tab')"
   ]
  },
  {
   "cell_type": "code",
   "execution_count": 22,
   "metadata": {},
   "outputs": [],
   "source": [
    "driver.find_element_by_xpath('//*[@id=\"num1\"]').click()"
   ]
  },
  {
   "cell_type": "code",
   "execution_count": 23,
   "metadata": {},
   "outputs": [],
   "source": [
    "# driver.switch_to.frame('ifrm_tab')\n",
    "# driver.find_element_by_xpath('//*[@id=\"num2\"]').click() # 자동으로 구매하기 버튼 클릭하기"
   ]
  },
  {
   "cell_type": "code",
   "execution_count": 24,
   "metadata": {},
   "outputs": [],
   "source": [
    "# driver.find_element_by_xpath('//*[@id=\"btnSelectNum\"]').click() # 확인버튼 클릭하기_좌측창\n",
    "# driver.find_element_by_xpath('//*[@id=\"btnBuy\"]').click() "
   ]
  },
  {
   "cell_type": "markdown",
   "metadata": {},
   "source": [
    "## 자동 구매"
   ]
  },
  {
   "cell_type": "code",
   "execution_count": 25,
   "metadata": {},
   "outputs": [],
   "source": [
    "# driver.switch_to.frame('ifrm_tab')"
   ]
  },
  {
   "cell_type": "code",
   "execution_count": 26,
   "metadata": {},
   "outputs": [],
   "source": [
    "# driver.find_element_by_xpath('//*[@id=\"num2\"]').click() # 자동으로 구매하기 버튼 클릭하기"
   ]
  },
  {
   "cell_type": "code",
   "execution_count": 27,
   "metadata": {},
   "outputs": [],
   "source": [
    "# driver.find_element_by_xpath('//*[@id=\"btnSelectNum\"]').click() # 확인버튼 클릭하기_좌측창\n",
    "# driver.find_element_by_xpath('//*[@id=\"btnBuy\"]').click() #구매하기 버튼 클릭하기_우측창"
   ]
  },
  {
   "cell_type": "code",
   "execution_count": 28,
   "metadata": {},
   "outputs": [],
   "source": [
    "# driver.find_element_by_xpath('//*[@id=\"popupLayerConfirm\"]/div/div[2]/input[1]').click()"
   ]
  },
  {
   "cell_type": "markdown",
   "metadata": {},
   "source": [
    "## 수동구매 (번호 선택)"
   ]
  },
  {
   "cell_type": "code",
   "execution_count": 29,
   "metadata": {
    "scrolled": true
   },
   "outputs": [
    {
     "data": {
      "text/plain": [
       "[[15, 25, 23, 30, 36, 9],\n",
       " [25, 30, 28, 36, 19, 9],\n",
       " [9, 36, 28, 41, 11, 32],\n",
       " [11, 36, 44, 28, 23, 30],\n",
       " [42, 28, 36, 22, 15, 35]]"
      ]
     },
     "execution_count": 29,
     "metadata": {},
     "output_type": "execute_result"
    }
   ],
   "source": [
    "candid_list"
   ]
  },
  {
   "cell_type": "code",
   "execution_count": 30,
   "metadata": {},
   "outputs": [],
   "source": [
    "for i in range(6):\n",
    "    n = candid_list[0][i]\n",
    "    driver.find_element_by_xpath('//*[@id=\"checkNumGroup\"]/label[{}]'.format(n)).click()\n",
    "driver.find_element_by_xpath('//*[@id=\"btnSelectNum\"]').click() "
   ]
  },
  {
   "cell_type": "code",
   "execution_count": 31,
   "metadata": {},
   "outputs": [],
   "source": [
    "for i in range(6):\n",
    "    n = candid_list[1][i]\n",
    "    driver.find_element_by_xpath('//*[@id=\"checkNumGroup\"]/label[{}]'.format(n)).click()\n",
    "driver.find_element_by_xpath('//*[@id=\"btnSelectNum\"]').click() "
   ]
  },
  {
   "cell_type": "code",
   "execution_count": 32,
   "metadata": {},
   "outputs": [],
   "source": [
    "for i in range(6):\n",
    "    n = candid_list[2][i]\n",
    "    driver.find_element_by_xpath('//*[@id=\"checkNumGroup\"]/label[{}]'.format(n)).click()\n",
    "driver.find_element_by_xpath('//*[@id=\"btnSelectNum\"]').click() "
   ]
  },
  {
   "cell_type": "code",
   "execution_count": 33,
   "metadata": {},
   "outputs": [],
   "source": [
    "for i in range(6):\n",
    "    n = candid_list[3][i]\n",
    "    driver.find_element_by_xpath('//*[@id=\"checkNumGroup\"]/label[{}]'.format(n)).click()\n",
    "driver.find_element_by_xpath('//*[@id=\"btnSelectNum\"]').click() "
   ]
  },
  {
   "cell_type": "code",
   "execution_count": 34,
   "metadata": {},
   "outputs": [],
   "source": [
    "for i in range(6):\n",
    "    n = candid_list[4][i]\n",
    "    driver.find_element_by_xpath('//*[@id=\"checkNumGroup\"]/label[{}]'.format(n)).click()\n",
    "driver.find_element_by_xpath('//*[@id=\"btnSelectNum\"]').click() "
   ]
  },
  {
   "cell_type": "code",
   "execution_count": 35,
   "metadata": {},
   "outputs": [],
   "source": [
    "driver.find_element_by_xpath('//*[@id=\"btnBuy\"]').click() # 확인버튼 클릭하기_좌측창"
   ]
  },
  {
   "cell_type": "code",
   "execution_count": 36,
   "metadata": {},
   "outputs": [],
   "source": [
    "driver.find_element_by_xpath('//*[@id=\"popupLayerConfirm\"]/div/div[2]/input[1]').click()"
   ]
  },
  {
   "cell_type": "code",
   "execution_count": null,
   "metadata": {},
   "outputs": [],
   "source": []
  }
 ],
 "metadata": {
  "kernelspec": {
   "display_name": "Python 3",
   "language": "python",
   "name": "python3"
  },
  "language_info": {
   "codemirror_mode": {
    "name": "ipython",
    "version": 3
   },
   "file_extension": ".py",
   "mimetype": "text/x-python",
   "name": "python",
   "nbconvert_exporter": "python",
   "pygments_lexer": "ipython3",
   "version": "3.7.1"
  }
 },
 "nbformat": 4,
 "nbformat_minor": 2
}
