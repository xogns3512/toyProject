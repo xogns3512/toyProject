{
 "cells": [
  {
   "cell_type": "code",
   "execution_count": 1,
   "metadata": {},
   "outputs": [],
   "source": [
    "import smtplib\n",
    "from email.mime.multipart import MIMEMultipart\n",
    "from email.mime.base import MIMEBase\n",
    "from email.mime.text import MIMEText\n",
    "from email import encoders"
   ]
  },
  {
   "cell_type": "code",
   "execution_count": 4,
   "metadata": {},
   "outputs": [
    {
     "data": {
      "text/plain": [
       "(221, b'2.0.0 closing connection om16sm9720983pjb.49 - gsmtp')"
      ]
     },
     "execution_count": 4,
     "metadata": {},
     "output_type": "execute_result"
    }
   ],
   "source": [
    "\n",
    "# 보내는 사람 정보\n",
    "me = \"xogns3512@gmail.com\"\n",
    "my_password = \"Myway209!@#\"\n",
    "\n",
    "# 로그인하기\n",
    "s = smtplib.SMTP_SSL('smtp.gmail.com')\n",
    "s.login(me, my_password)\n",
    "\n",
    "# 받는 사람 정보 리스트로 작성\n",
    "emails = ['xogns3512@naver.com',]\n",
    "# 여러 사람에게 보낼 for 반복문 작성 \n",
    "for you in emails:\n",
    "    # 메일 기본 정보 설정\n",
    "    msg = MIMEMultipart('alternative')\n",
    "    msg['Subject'] = \"[공유]오늘의 주식 기사\"\n",
    "    msg['From'] = me\n",
    "    msg['To'] = you\n",
    "\n",
    "    # 메일 내용 쓰기\n",
    "    content = \"따끈따끈 오늘자 기사가 도착했어요! '주식' 공부의 첫 걸음은 경제 기사 읽기부터! 오늘도 화이팅!\"\n",
    "    part2 = MIMEText(content, 'plain')\n",
    "    msg.attach(part2)\n",
    "\n",
    "    # 파일 첨부하기 \n",
    "#     part = MIMEBase('application', \"octet-stream\")\n",
    "#     with open(\"네이버 기사 스크래핑.xlsx\", 'rb') as file:\n",
    "#         part.set_payload(file.read())\n",
    "#     encoders.encode_base64(part)\n",
    "#     part.add_header('Content-Disposition', \"attachment\", filename=\"주식기사.xlsx\")\n",
    "#     msg.attach(part)\n",
    "\n",
    "\n",
    "    # 메일 보내고 서버 끄기\n",
    "    s.sendmail(me, you, msg.as_string())\n",
    "s.quit()"
   ]
  },
  {
   "cell_type": "code",
   "execution_count": null,
   "metadata": {},
   "outputs": [],
   "source": []
  }
 ],
 "metadata": {
  "kernelspec": {
   "display_name": "Python 3 (ipykernel)",
   "language": "python",
   "name": "python3"
  },
  "language_info": {
   "codemirror_mode": {
    "name": "ipython",
    "version": 3
   },
   "file_extension": ".py",
   "mimetype": "text/x-python",
   "name": "python",
   "nbconvert_exporter": "python",
   "pygments_lexer": "ipython3",
   "version": "3.9.7"
  }
 },
 "nbformat": 4,
 "nbformat_minor": 2
}
