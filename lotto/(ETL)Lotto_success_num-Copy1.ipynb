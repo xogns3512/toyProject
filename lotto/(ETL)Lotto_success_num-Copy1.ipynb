{
 "cells": [
  {
   "cell_type": "markdown",
   "metadata": {},
   "source": [
    "LIBRARY"
   ]
  },
  {
   "cell_type": "code",
   "execution_count": 1,
   "metadata": {},
   "outputs": [],
   "source": [
    "import numpy as np\n",
    "import pandas as pd\n",
    "import requests\n",
    "import sys\n",
    "import bs4\n",
    "import re\n",
    "import urllib.request\n",
    "import itertools\n",
    "from collections import Counter\n",
    "from matplotlib import pyplot as plt"
   ]
  },
  {
   "cell_type": "code",
   "execution_count": 2,
   "metadata": {},
   "outputs": [],
   "source": [
    "search_url = \"https://dhlottery.co.kr/gameResult.do?method=byWin&drwNo={page}\""
   ]
  },
  {
   "cell_type": "code",
   "execution_count": 3,
   "metadata": {},
   "outputs": [],
   "source": [
    "def get_lotto_num(page):\n",
    "    response = urllib.request.urlopen(search_url.format(page=page))\n",
    "    lotto_data = response.read()\n",
    "    soup = bs4.BeautifulSoup(lotto_data)\n",
    "    ret = []\n",
    "    newret = []\n",
    "    for winnums in soup.findAll('div', attrs={'class': 'nums'}):\n",
    "        winnum = winnums.findAll('span')\n",
    "        ret.append(winnum)\n",
    "    ret = ret[0]\n",
    "    for i in ret:\n",
    "        string = str(i)\n",
    "        onlynum =  re.sub('<.+?>','', string, 0, re.I|re.S)\n",
    "        newret.append(onlynum)\n",
    "        newret = list(map(int, newret))\n",
    "    return newret"
   ]
  },
  {
   "cell_type": "markdown",
   "metadata": {},
   "source": [
    "all lotto success num"
   ]
  },
  {
   "cell_type": "code",
   "execution_count": null,
   "metadata": {},
   "outputs": [],
   "source": [
    "return_list=[]\n",
    "for i in range(1,907):\n",
    "    return_list.append(get_lotto_num(i))"
   ]
  },
  {
   "cell_type": "code",
   "execution_count": null,
   "metadata": {},
   "outputs": [],
   "source": [
    "all_num = list(itertools.chain(*return_list))\n",
    "all_num= pd.DataFrame(all_num,columns=[\"num\"])\n",
    "dict_result = Counter(all_num.num)\n",
    "df = pd.DataFrame.from_dict(dict_result, orient='index').reset_index().sort_values(\"index\").reset_index(drop=True)\n",
    "df.rename(columns = {'index' : 'num',0:\"count_num\"}, inplace = True)"
   ]
  },
  {
   "cell_type": "code",
   "execution_count": null,
   "metadata": {
    "scrolled": true
   },
   "outputs": [],
   "source": [
    "# threshold  of likely or unlikely \n",
    "threshold = (900 * 7)/45\n",
    "(900 * 7)/45"
   ]
  },
  {
   "cell_type": "code",
   "execution_count": null,
   "metadata": {},
   "outputs": [],
   "source": [
    "900 * 7"
   ]
  },
  {
   "cell_type": "code",
   "execution_count": null,
   "metadata": {},
   "outputs": [],
   "source": [
    "df[\"Unlikely\"] = list(map(int,df.count_num<=139.5))"
   ]
  },
  {
   "cell_type": "markdown",
   "metadata": {},
   "source": [
    "plotting"
   ]
  },
  {
   "cell_type": "code",
   "execution_count": null,
   "metadata": {},
   "outputs": [],
   "source": [
    "from matplotlib import pyplot as plt\n",
    "\n",
    "t1 = df[df['count_num']>140]\n",
    "t2 = df[df['count_num']<=140]\n",
    "\n",
    "plt.rcParams[\"figure.figsize\"] = (15,4)\n",
    "y = df.count_num\n",
    "x = df.num\n",
    "\n",
    "plt.bar(t1.num, t1['count_num'], color='salmon')\n",
    "plt.bar(t2.num, t2['count_num'], color='skyblue')\n",
    "plt.axhline(y=threshold,linewidth=1, color='red' ,linestyle='--' )\n",
    "\n",
    "# plt.bar(x, y, width=0.7)\n",
    "plt.xticks (x)\n",
    "plt.suptitle(\"lotto number count\")\n",
    "plt.show()"
   ]
  },
  {
   "cell_type": "code",
   "execution_count": null,
   "metadata": {},
   "outputs": [],
   "source": []
  },
  {
   "cell_type": "code",
   "execution_count": null,
   "metadata": {},
   "outputs": [],
   "source": []
  },
  {
   "cell_type": "code",
   "execution_count": null,
   "metadata": {},
   "outputs": [],
   "source": []
  }
 ],
 "metadata": {
  "kernelspec": {
   "display_name": "Python 3",
   "language": "python",
   "name": "python3"
  },
  "language_info": {
   "codemirror_mode": {
    "name": "ipython",
    "version": 3
   },
   "file_extension": ".py",
   "mimetype": "text/x-python",
   "name": "python",
   "nbconvert_exporter": "python",
   "pygments_lexer": "ipython3",
   "version": "3.7.1"
  }
 },
 "nbformat": 4,
 "nbformat_minor": 2
}
