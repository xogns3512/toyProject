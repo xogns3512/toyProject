{
 "cells": [
  {
   "cell_type": "code",
   "execution_count": 1,
   "metadata": {},
   "outputs": [],
   "source": [
    "from playwright.sync_api import Playwright, sync_playwright\n",
    "import time"
   ]
  },
  {
   "cell_type": "code",
   "execution_count": 8,
   "metadata": {},
   "outputs": [],
   "source": [
    "from playwright.sync_api import Playwright, sync_playwright\n",
    "def run(playwright: Playwright) -> None:\n",
    "    \n",
    "    browser = playwright.chromium.launch(headless=False)\n",
    "    context = browser.new_context()\n",
    "    \n",
    "    # Open new page\n",
    "    page = context.new_page()\n",
    "    \n",
    "    # Go to https://dhlottery.co.kr/user.do?method=login\n",
    "    page.goto(\"https://dhlottery.co.kr/user.do?method=login\")\n",
    "    \n",
    "    # Click [placeholder=\"아이디\"]\n",
    "    page.click(\"[placeholder=\\\"아이디\\\"]\")\n",
    "    \n",
    "    # Fill [placeholder=\"아이디\"]\n",
    "    page.fill(\"[placeholder=\\\"아이디\\\"]\", \"\")\n",
    "    \n",
    "    # Click [placeholder=\"비밀번호\"]\n",
    "    page.click(\"[placeholder=\\\"비밀번호\\\"]\")\n",
    "    \n",
    "    # Fill [placeholder=\"비밀번호\"]\n",
    "    page.fill(\"[placeholder=\\\"비밀번호\\\"]\", \"\")\n",
    "    \n",
    "    # Click form[name=\"jform\"] >> text=로그인\n",
    "    # with page.expect_navigation(url=\"https://www.dhlottery.co.kr/common.do?method=main\"):\n",
    "    \n",
    "    with page.expect_navigation():\n",
    "        with page.expect_popup() as popup_info:\n",
    "            page.click(\"form[name=\\\"jform\\\"] >> text=로그인\")\n",
    "        page1 = popup_info.value\n",
    "    # assert page.url == \"https://www.dhlottery.co.kr/common.do?method=loginResult\"\n",
    "    # Click text=로또 6/45매주 토요일 추첨6개 숫자 직접 선택\n",
    "    \n",
    "    with page.expect_popup() as popup_info:\n",
    "        page.click(\"text=로또 6/45매주 토요일 추첨6개 숫자 직접 선택\")\n",
    "        \n",
    "    page2 = popup_info.value\n",
    "    # Click text=자동번호발급구매 수량 전체를 자동번호로 발급 받을 수 있습니다.\n",
    "    page2.frame(name=\"ifrm_tab\").click(\"text=자동번호발급구매 수량 전체를 자동번호로 발급 받을 수 있습니다.\")\n",
    "    \n",
    "    # Click input:has-text(\"구매하기\")\n",
    "    page2.frame(name=\"ifrm_tab\").click(\"input:has-text(\\\"구매하기\\\")\")\n",
    "    # ---------------------\n",
    "    context.close()\n",
    "    browser.close()\n",
    "with sync_playwright() as playwright:\n",
    "    run(playwright)"
   ]
  },
  {
   "cell_type": "code",
   "execution_count": null,
   "metadata": {},
   "outputs": [],
   "source": []
  }
 ],
 "metadata": {
  "kernelspec": {
   "display_name": "Python 3",
   "language": "python",
   "name": "python3"
  },
  "language_info": {
   "codemirror_mode": {
    "name": "ipython",
    "version": 3
   },
   "file_extension": ".py",
   "mimetype": "text/x-python",
   "name": "python",
   "nbconvert_exporter": "python",
   "pygments_lexer": "ipython3",
   "version": "3.7.1"
  }
 },
 "nbformat": 4,
 "nbformat_minor": 2
}
