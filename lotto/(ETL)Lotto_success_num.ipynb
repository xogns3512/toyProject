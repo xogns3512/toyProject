{
 "cells": [
  {
   "cell_type": "markdown",
   "metadata": {},
   "source": [
    "# 로또 번호 뽑아보기\n",
    "- 전체 회차 뽑기\n",
    "- 전체 회차에서 가장 많이 뽑힌번호\n",
    "- 전체 회차에서 가장 적게 뽑힌 번호\n",
    "- 로또 전체의 번호의 특징 패턴"
   ]
  },
  {
   "cell_type": "markdown",
   "metadata": {},
   "source": [
    "## LIBRARY"
   ]
  },
  {
   "cell_type": "code",
   "execution_count": 1,
   "metadata": {
    "scrolled": true
   },
   "outputs": [
    {
     "name": "stderr",
     "output_type": "stream",
     "text": [
      "C:\\Users\\user\\Anaconda3\\lib\\site-packages\\requests\\__init__.py:91: RequestsDependencyWarning: urllib3 (1.26.8) or chardet (3.0.4) doesn't match a supported version!\n",
      "  RequestsDependencyWarning)\n"
     ]
    }
   ],
   "source": [
    "import numpy as np\n",
    "import pandas as pd\n",
    "import requests\n",
    "import sys\n",
    "import bs4\n",
    "import re\n",
    "import urllib.request\n",
    "import itertools\n",
    "from collections import Counter\n",
    "from matplotlib import pyplot as plt\n",
    "import seaborn as sns\n",
    "import random\n",
    "\n",
    "from selenium import webdriver\n",
    "from selenium.webdriver.common.alert import Alert"
   ]
  },
  {
   "cell_type": "markdown",
   "metadata": {},
   "source": [
    "### 크롬드라이버 연결"
   ]
  },
  {
   "cell_type": "code",
   "execution_count": 2,
   "metadata": {},
   "outputs": [
    {
     "name": "stderr",
     "output_type": "stream",
     "text": [
      "C:\\Users\\user\\Anaconda3\\lib\\site-packages\\ipykernel_launcher.py:3: DeprecationWarning: executable_path has been deprecated, please pass in a Service object\n",
      "  This is separate from the ipykernel package so we can avoid doing imports until\n"
     ]
    }
   ],
   "source": [
    "cpath = 'C:/Users/user/Dropbox/Taehoon/github_local/chromedriver'\n",
    "# cpath = 'C:/Users\\/lth3512/OneDrive - NEXON COMPANY/문서/GitHub/chromedriver'\n",
    "driver = webdriver.Chrome(executable_path=cpath)\n",
    "driver.get('https://dhlottery.co.kr/gameResult.do?method=byWin')"
   ]
  },
  {
   "cell_type": "code",
   "execution_count": 3,
   "metadata": {
    "scrolled": true
   },
   "outputs": [
    {
     "name": "stdout",
     "output_type": "stream",
     "text": [
      "['CDwindow-D2FC3FABD43569E8F592AD0E0E8FDE76']\n"
     ]
    }
   ],
   "source": [
    "windows_list = driver.window_handles\n",
    "print(windows_list)"
   ]
  },
  {
   "cell_type": "markdown",
   "metadata": {},
   "source": [
    "### 오늘까지의 회차 뽑아오기"
   ]
  },
  {
   "cell_type": "code",
   "execution_count": 4,
   "metadata": {},
   "outputs": [
    {
     "name": "stderr",
     "output_type": "stream",
     "text": [
      "C:\\Users\\user\\Anaconda3\\lib\\site-packages\\ipykernel_launcher.py:1: DeprecationWarning: find_element_by_* commands are deprecated. Please use find_element() instead\n",
      "  \"\"\"Entry point for launching an IPython kernel.\n"
     ]
    }
   ],
   "source": [
    "today_round = driver.find_element_by_class_name('win_result')"
   ]
  },
  {
   "cell_type": "code",
   "execution_count": 5,
   "metadata": {},
   "outputs": [],
   "source": [
    "today_round_number = today_round.text.split('회')[0]"
   ]
  },
  {
   "cell_type": "markdown",
   "metadata": {},
   "source": [
    "## 전체 로또 회차의 당첨 번호를 가져오기"
   ]
  },
  {
   "cell_type": "code",
   "execution_count": 6,
   "metadata": {},
   "outputs": [],
   "source": [
    "def get_lotto_num(page):\n",
    "    search_url = \"https://dhlottery.co.kr/gameResult.do?method=byWin&drwNo={page}\"\n",
    "    response = urllib.request.urlopen(search_url.format(page=page))\n",
    "    lotto_data = response.read()\n",
    "    soup = bs4.BeautifulSoup(lotto_data)\n",
    "    ret = []\n",
    "    newret = []\n",
    "    for winnums in soup.findAll('div', attrs={'class': 'nums'}):\n",
    "        winnum = winnums.findAll('span')\n",
    "        ret.append(winnum)\n",
    "    ret = ret[0]\n",
    "    for i in ret:\n",
    "        string = str(i)\n",
    "        onlynum =  re.sub('<.+?>','', string, 0, re.I|re.S)\n",
    "        newret.append(onlynum)\n",
    "        newret = list(map(int, newret))\n",
    "    return newret"
   ]
  },
  {
   "cell_type": "code",
   "execution_count": 7,
   "metadata": {
    "scrolled": true
   },
   "outputs": [
    {
     "name": "stdout",
     "output_type": "stream",
     "text": [
      "100\n",
      "200\n",
      "300\n",
      "400\n",
      "500\n",
      "600\n",
      "700\n",
      "800\n",
      "900\n"
     ]
    }
   ],
   "source": [
    "return_list=[]\n",
    "for i in range(1,int(today_round_number)):\n",
    "    if i%100 ==0:\n",
    "        print(i)\n",
    "    return_list.append(get_lotto_num(i))"
   ]
  },
  {
   "cell_type": "markdown",
   "metadata": {},
   "source": [
    "## 빈도출현 threshold 계산"
   ]
  },
  {
   "cell_type": "code",
   "execution_count": 8,
   "metadata": {},
   "outputs": [],
   "source": [
    "seg_select = int(today_round_number)"
   ]
  },
  {
   "cell_type": "code",
   "execution_count": 9,
   "metadata": {},
   "outputs": [],
   "source": [
    "return_list_seg = return_list[0:seg_select]"
   ]
  },
  {
   "cell_type": "code",
   "execution_count": 10,
   "metadata": {},
   "outputs": [],
   "source": [
    "all_num = list(itertools.chain(*return_list_seg))\n",
    "all_num= pd.DataFrame(all_num,columns=[\"num\"])\n",
    "dict_result = Counter(all_num.num)\n",
    "df = pd.DataFrame.from_dict(dict_result, orient='index').reset_index().sort_values(\"index\").reset_index(drop=True)\n",
    "df.rename(columns = {'index' : 'num',0:\"count_num\"}, inplace = True)"
   ]
  },
  {
   "cell_type": "code",
   "execution_count": 11,
   "metadata": {
    "scrolled": true
   },
   "outputs": [
    {
     "data": {
      "text/plain": [
       "155.24444444444444"
      ]
     },
     "execution_count": 11,
     "metadata": {},
     "output_type": "execute_result"
    }
   ],
   "source": [
    "# threshold  of likely or unlikely \n",
    "threshold = (int(seg_select) * 7)/45\n",
    "threshold"
   ]
  },
  {
   "cell_type": "code",
   "execution_count": 12,
   "metadata": {},
   "outputs": [],
   "source": [
    "df[\"Unlikely\"] = list(map(int,df.count_num<=threshold))"
   ]
  },
  {
   "cell_type": "markdown",
   "metadata": {},
   "source": [
    "### extract threshold"
   ]
  },
  {
   "cell_type": "code",
   "execution_count": 13,
   "metadata": {
    "scrolled": true
   },
   "outputs": [
    {
     "data": {
      "image/png": "[encoded data removed]",
      "text/plain": [
       "<Figure size 1080x288 with 1 Axes>"
      ]
     },
     "metadata": {
      "needs_background": "light"
     },
     "output_type": "display_data"
    }
   ],
   "source": [
    "from matplotlib import pyplot as plt\n",
    "\n",
    "t1 = df[df['count_num']>threshold]\n",
    "t2 = df[df['count_num']<=threshold]\n",
    "\n",
    "plt.rcParams[\"figure.figsize\"] = (15,4)\n",
    "y = df.count_num\n",
    "x = df.num\n",
    "\n",
    "plt.bar(t1.num, t1['count_num'], color='salmon')\n",
    "plt.bar(t2.num, t2['count_num'], color='skyblue')\n",
    "plt.axhline(y=threshold,linewidth=1, color='red' ,linestyle='--' )\n",
    "\n",
    "# plt.bar(x, y, width=0.7)\n",
    "plt.xticks (x)\n",
    "plt.suptitle(\"lotto number count\")\n",
    "plt.show()"
   ]
  },
  {
   "cell_type": "markdown",
   "metadata": {},
   "source": [
    "### cum plotting"
   ]
  },
  {
   "cell_type": "code",
   "execution_count": 14,
   "metadata": {},
   "outputs": [],
   "source": [
    "def plot_cum(seg_select):\n",
    "#     seg_select = 100\n",
    "    return_list_seg = return_list[0:seg_select]\n",
    "    \n",
    "    all_num = list(itertools.chain(*return_list_seg))\n",
    "    all_num= pd.DataFrame(all_num,columns=[\"num\"])\n",
    "    dict_result = Counter(all_num.num)\n",
    "    df = pd.DataFrame.from_dict(dict_result, orient='index').reset_index().sort_values(\"index\").reset_index(drop=True)\n",
    "    df.rename(columns = {'index' : 'num',0:\"count_num\"}, inplace = True)\n",
    "    \n",
    "    # threshold  of likely or unlikely \n",
    "    threshold = (int(seg_select) * 7)/45\n",
    "    threshold\n",
    "    \n",
    "    df[\"Unlikely\"] = list(map(int,df.count_num<=threshold))\n",
    "    \n",
    "    t1 = df[df['count_num']>threshold]\n",
    "    t2 = df[df['count_num']<=threshold]\n",
    "\n",
    "    plt.rcParams[\"figure.figsize\"] = (15,4)\n",
    "    y = df.count_num\n",
    "    x = df.num\n",
    "\n",
    "    plt.bar(t1.num, t1['count_num'], color='salmon')\n",
    "    plt.bar(t2.num, t2['count_num'], color='skyblue')\n",
    "    plt.axhline(y=threshold,linewidth=1, color='red' ,linestyle='--' )\n",
    "\n",
    "    # plt.bar(x, y, width=0.7)\n",
    "    plt.xticks (x)\n",
    "    plt.suptitle(\"lotto number count\")\n",
    "    plt.show()"
   ]
  },
  {
   "cell_type": "markdown",
   "metadata": {},
   "source": [
    "### seg division"
   ]
  },
  {
   "cell_type": "code",
   "execution_count": 15,
   "metadata": {},
   "outputs": [],
   "source": [
    "def plot_cum(seg_start, seg_end):\n",
    "    return_list_seg = return_list[seg_start:seg_end]\n",
    "    round_num = seg_end-seg_start\n",
    "    \n",
    "    all_num = list(itertools.chain(*return_list_seg))\n",
    "    all_num= pd.DataFrame(all_num,columns=[\"num\"])\n",
    "    dict_result = Counter(all_num.num)\n",
    "    df = pd.DataFrame.from_dict(dict_result, orient='index').reset_index().sort_values(\"index\").reset_index(drop=True)\n",
    "    df.rename(columns = {'index' : 'num',0:\"count_num\"}, inplace = True)\n",
    "    \n",
    "    # threshold  of likely or unlikely \n",
    "    threshold = (int(round_num) * 7)/45\n",
    "    threshold\n",
    "    \n",
    "    df[\"Unlikely\"] = list(map(int,df.count_num<=threshold))\n",
    "    \n",
    "    t1 = df[df['count_num']>threshold]\n",
    "    t2 = df[df['count_num']<=threshold]\n",
    "\n",
    "    plt.rcParams[\"figure.figsize\"] = (15,4)\n",
    "    y = df.count_num\n",
    "    x = df.num\n",
    "\n",
    "    plt.bar(t1.num, t1['count_num'], color='salmon')\n",
    "    plt.bar(t2.num, t2['count_num'], color='skyblue')\n",
    "    plt.axhline(y=threshold,linewidth=1, color='red' ,linestyle='--' )\n",
    "\n",
    "    # plt.bar(x, y, width=0.7)\n",
    "    plt.xticks (x)\n",
    "    plt.suptitle(\"lotto number count\")\n",
    "    plt.show()"
   ]
  },
  {
   "cell_type": "markdown",
   "metadata": {},
   "source": [
    "### 전체 로또 번호의 평균 패턴"
   ]
  },
  {
   "cell_type": "code",
   "execution_count": 16,
   "metadata": {},
   "outputs": [],
   "source": [
    "sum_list = [sum(i) for i in return_list]"
   ]
  },
  {
   "cell_type": "code",
   "execution_count": 17,
   "metadata": {},
   "outputs": [
    {
     "data": {
      "image/png": "[encoded data removed]",
      "text/plain": [
       "<Figure size 1080x288 with 1 Axes>"
      ]
     },
     "metadata": {
      "needs_background": "light"
     },
     "output_type": "display_data"
    }
   ],
   "source": [
    "plt.hist(sum_list, bins = 100)\n",
    "plt.show()"
   ]
  },
  {
   "cell_type": "code",
   "execution_count": 18,
   "metadata": {
    "scrolled": true
   },
   "outputs": [
    {
     "name": "stderr",
     "output_type": "stream",
     "text": [
      "C:\\Users\\user\\Anaconda3\\lib\\site-packages\\scipy\\stats\\stats.py:1713: FutureWarning: Using a non-tuple sequence for multidimensional indexing is deprecated; use `arr[tuple(seq)]` instead of `arr[seq]`. In the future this will be interpreted as an array index, `arr[np.array(seq)]`, which will result either in an error or a different result.\n",
      "  return np.add.reduce(sorted[indexer] * weights, axis=axis) / sumval\n"
     ]
    },
    {
     "data": {
      "text/plain": [
       "<matplotlib.axes._subplots.AxesSubplot at 0x1c4e59d2048>"
      ]
     },
     "execution_count": 18,
     "metadata": {},
     "output_type": "execute_result"
    },
    {
     "data": {
      "image/png": "[encoded data removed]",
      "text/plain": [
       "<Figure size 1080x288 with 1 Axes>"
      ]
     },
     "metadata": {
      "needs_background": "light"
     },
     "output_type": "display_data"
    }
   ],
   "source": [
    "sns.distplot(sum_list)"
   ]
  },
  {
   "cell_type": "code",
   "execution_count": 19,
   "metadata": {},
   "outputs": [],
   "source": [
    "mu = np.mean(sum_list)\n",
    "sigma = np.std(sum_list)"
   ]
  },
  {
   "cell_type": "code",
   "execution_count": 20,
   "metadata": {
    "scrolled": true
   },
   "outputs": [
    {
     "data": {
      "image/png": "[encoded data removed]",
      "text/plain": [
       "<Figure size 1080x288 with 1 Axes>"
      ]
     },
     "metadata": {
      "needs_background": "light"
     },
     "output_type": "display_data"
    }
   ],
   "source": [
    "n, bins, patches = plt.hist(sum_list, bins = 30, density = 1)\n",
    "y = ((1 / (np.sqrt(2 * np.pi) * sigma)) * np.exp(-0.5 * (1 / sigma * (bins - mu))**2))\n",
    "plt.axvline(x = mu + sigma*1, linewidth = 2, color = 'r',linestyle = '--')\n",
    "plt.axvline(x = mu - sigma*1, linewidth = 2, color = 'r',linestyle = '--')\n",
    "plt.plot(bins, y, '--')\n",
    "plt.show()"
   ]
  },
  {
   "cell_type": "code",
   "execution_count": 21,
   "metadata": {},
   "outputs": [
    {
     "data": {
      "text/plain": [
       "(128.1956092555415, 193.04210388387673)"
      ]
     },
     "execution_count": 21,
     "metadata": {},
     "output_type": "execute_result"
    }
   ],
   "source": [
    "mu - sigma*1, mu + sigma*1"
   ]
  },
  {
   "cell_type": "markdown",
   "metadata": {},
   "source": [
    "## 로또 번호의 후보군 뽑아보기\n",
    "- 조건 1 : 임의의 threshold보다 숫자가 작으며\n",
    "- 조건 2 : 평균의 과거 se값의 1의 오차를 지니는 구간에서의 숫자조합"
   ]
  },
  {
   "cell_type": "code",
   "execution_count": 22,
   "metadata": {},
   "outputs": [],
   "source": [
    "def extract_lowprob_number():\n",
    "    # 임의의 threshold보다 작은 숫자\n",
    "    t2 = df[df['count_num']<=threshold]\n",
    "    sampleList = random.sample(list(t2.num), 6) \n",
    "    return sampleList"
   ]
  },
  {
   "cell_type": "code",
   "execution_count": 23,
   "metadata": {},
   "outputs": [],
   "source": [
    "def check_boundary_number(sampleList):\n",
    "    low, high = mu - sigma*1, mu + sigma*1\n",
    "    if sum(sampleList)<low or sum(sampleList)>high:\n",
    "        check = False\n",
    "    else:\n",
    "        check = True\n",
    "    return check"
   ]
  },
  {
   "cell_type": "markdown",
   "metadata": {},
   "source": [
    "## main"
   ]
  },
  {
   "cell_type": "code",
   "execution_count": 24,
   "metadata": {},
   "outputs": [],
   "source": [
    "## TEST\n",
    "# sampleList = extract_lowprob_number()\n",
    "# print(sampleList, sum(sampleList))\n",
    "# print(mu - sigma*1, mu + sigma*1)\n",
    "# check_boundary_number(sampleList)"
   ]
  },
  {
   "cell_type": "code",
   "execution_count": 32,
   "metadata": {},
   "outputs": [
    {
     "name": "stdout",
     "output_type": "stream",
     "text": [
      "[28, 32, 8, 36, 25, 30] 159\n",
      "128.1956092555415 193.04210388387673\n",
      "[45, 22, 19, 15, 6, 9] 116\n",
      "128.1956092555415 193.04210388387673\n",
      "[30, 22, 36, 5, 32, 45] 170\n",
      "128.1956092555415 193.04210388387673\n",
      "[36, 29, 44, 22, 15, 5] 151\n",
      "128.1956092555415 193.04210388387673\n",
      "[29, 45, 42, 15, 22, 6] 159\n",
      "128.1956092555415 193.04210388387673\n",
      "[41, 23, 44, 28, 19, 29] 184\n",
      "128.1956092555415 193.04210388387673\n"
     ]
    }
   ],
   "source": [
    "candid_list =[]\n",
    "while len(candid_list)<5:\n",
    "    sampleList = extract_lowprob_number()\n",
    "    print(sampleList, sum(sampleList))\n",
    "    print(mu - sigma*1, mu + sigma*1)\n",
    "    if check_boundary_number(sampleList)==True:\n",
    "        candid_list.append(sampleList)"
   ]
  },
  {
   "cell_type": "code",
   "execution_count": 33,
   "metadata": {},
   "outputs": [
    {
     "data": {
      "text/plain": [
       "[[28, 32, 8, 36, 25, 30],\n",
       " [30, 22, 36, 5, 32, 45],\n",
       " [36, 29, 44, 22, 15, 5],\n",
       " [29, 45, 42, 15, 22, 6],\n",
       " [41, 23, 44, 28, 19, 29]]"
      ]
     },
     "execution_count": 33,
     "metadata": {},
     "output_type": "execute_result"
    }
   ],
   "source": [
    "candid_list"
   ]
  },
  {
   "cell_type": "code",
   "execution_count": null,
   "metadata": {},
   "outputs": [],
   "source": []
  }
 ],
 "metadata": {
  "kernelspec": {
   "display_name": "Python 3",
   "language": "python",
   "name": "python3"
  },
  "language_info": {
   "codemirror_mode": {
    "name": "ipython",
    "version": 3
   },
   "file_extension": ".py",
   "mimetype": "text/x-python",
   "name": "python",
   "nbconvert_exporter": "python",
   "pygments_lexer": "ipython3",
   "version": "3.7.1"
  }
 },
 "nbformat": 4,
 "nbformat_minor": 2
}
