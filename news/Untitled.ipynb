{
 "cells": [
  {
   "cell_type": "code",
   "execution_count": 1,
   "metadata": {},
   "outputs": [
    {
     "name": "stderr",
     "output_type": "stream",
     "text": [
      "C:\\Users\\user\\Anaconda3\\lib\\site-packages\\requests\\__init__.py:91: RequestsDependencyWarning: urllib3 (1.26.8) or chardet (3.0.4) doesn't match a supported version!\n",
      "  RequestsDependencyWarning)\n"
     ]
    }
   ],
   "source": [
    "import requests\n",
    "from bs4 import BeautifulSoup"
   ]
  },
  {
   "cell_type": "code",
   "execution_count": 9,
   "metadata": {},
   "outputs": [],
   "source": [
    "url_format = 'https://search.naver.com/search.naver?&where=news&query={}\\\n",
    "    &sm=tab_pge&sort=0&photo=0&field=0&reporter_article=&pd=3&ds={}&de={}\\\n",
    "    &docid=&nso=so:r,p:from{}to{},a:all&mynews=0&cluster_rank=34\\\n",
    "    &start={}'"
   ]
  },
  {
   "cell_type": "code",
   "execution_count": 11,
   "metadata": {},
   "outputs": [],
   "source": [
    "r = requests.get(url_format.format('금리','2022-01-25','2022-01-26','20220125','20220126','1'))"
   ]
  },
  {
   "cell_type": "code",
   "execution_count": 13,
   "metadata": {},
   "outputs": [],
   "source": [
    "sp = BeautifulSoup(r.text,'html.parser')"
   ]
  },
  {
   "cell_type": "code",
   "execution_count": 21,
   "metadata": {},
   "outputs": [],
   "source": [
    "sources=sp.select('div.group_news > ul.list_news > li div.news_area > a')"
   ]
  },
  {
   "cell_type": "code",
   "execution_count": 22,
   "metadata": {},
   "outputs": [
    {
     "data": {
      "text/plain": [
       "10"
      ]
     },
     "execution_count": 22,
     "metadata": {},
     "output_type": "execute_result"
    }
   ],
   "source": [
    "len(sources)"
   ]
  },
  {
   "cell_type": "code",
   "execution_count": 25,
   "metadata": {},
   "outputs": [
    {
     "name": "stdout",
     "output_type": "stream",
     "text": [
      "http://www.busan.com/view/busan/view.php?code=2022012612170296052\n",
      "http://yna.kr/AKR20220126151051002?did=1195m\n",
      "http://www.fnnews.com/news/202201261805484802\n",
      "http://www.newsis.com/view/?id=NISX20220126_0001737875&cID=10401&pID=10400\n",
      "https://biz.sbs.co.kr/article_hub/20000048362?division=NAVER\n",
      "http://news.heraldcorp.com/view.php?ud=20220126000048\n",
      "https://economist.co.kr/2022/01/26/finance/insurance/20220126080004720.html\n",
      "http://www.newsis.com/view/?id=NISX20220124_0001735760&cID=15001&pID=15000\n",
      "http://www.fnnews.com/news/202201261817381874\n",
      "https://www.hankyung.com/economy/article/2022012663711\n"
     ]
    }
   ],
   "source": [
    "for source in sources:\n",
    "    print(source.attrs['href'])"
   ]
  },
  {
   "cell_type": "code",
   "execution_count": null,
   "metadata": {},
   "outputs": [],
   "source": []
  }
 ],
 "metadata": {
  "kernelspec": {
   "display_name": "Python 3",
   "language": "python",
   "name": "python3"
  },
  "language_info": {
   "codemirror_mode": {
    "name": "ipython",
    "version": 3
   },
   "file_extension": ".py",
   "mimetype": "text/x-python",
   "name": "python",
   "nbconvert_exporter": "python",
   "pygments_lexer": "ipython3",
   "version": "3.7.1"
  }
 },
 "nbformat": 4,
 "nbformat_minor": 2
}
