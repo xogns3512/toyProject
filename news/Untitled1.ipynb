{
 "cells": [
  {
   "cell_type": "code",
   "execution_count": 1,
   "metadata": {},
   "outputs": [
    {
     "name": "stderr",
     "output_type": "stream",
     "text": [
      "C:\\Users\\user\\Anaconda3\\lib\\site-packages\\requests\\__init__.py:91: RequestsDependencyWarning: urllib3 (1.26.8) or chardet (3.0.4) doesn't match a supported version!\n",
      "  RequestsDependencyWarning)\n"
     ]
    }
   ],
   "source": [
    "#크롤링시 필요한 라이브러리 불러오기\n",
    "from bs4 import BeautifulSoup\n",
    "import requests"
   ]
  },
  {
   "cell_type": "code",
   "execution_count": 2,
   "metadata": {},
   "outputs": [
    {
     "name": "stdout",
     "output_type": "stream",
     "text": [
      "크롤링할 키워드금리\n",
      "크롤링할 페이지를 입력해주세요. ex)1(숫자만입력):1\n",
      "크롤링할 페이지:  1 페이지\n"
     ]
    }
   ],
   "source": [
    "\n",
    "#검색어 입력\n",
    "search = input(\"크롤링할 키워드\")\n",
    "#검색할 페이지 입력\n",
    "page = int(input(\"크롤링할 페이지를 입력해주세요. ex)1(숫자만입력):\")) # ex)1 =1페이지,2=2페이지...\n",
    "print(\"크롤링할 페이지: \",page,\"페이지\")   \n",
    "#start수를 1, 11, 21, 31 ...만들어 주는 함수\n",
    "page_num = 0"
   ]
  },
  {
   "cell_type": "code",
   "execution_count": 3,
   "metadata": {},
   "outputs": [
    {
     "name": "stdout",
     "output_type": "stream",
     "text": [
      "생성url:  https://search.naver.com/search.naver?where=news&sm=tab_pge&query=금리&start=1\n"
     ]
    }
   ],
   "source": [
    "#start수를 1, 11, 21, 31 ...만들어 주는 함수\n",
    "page_num = 0\n",
    "\n",
    "if page == 1:\n",
    "    page_num =1\n",
    "elif page == 0:\n",
    "    page_num =1\n",
    "else:\n",
    "    page_num = page+9*(page-1)\n",
    "    \n",
    "#url 생성\n",
    "url = \"https://search.naver.com/search.naver?where=news&sm=tab_pge&query=\" + search + \"&start=\" + str(page_num)\n",
    "print(\"생성url: \",url)"
   ]
  },
  {
   "cell_type": "code",
   "execution_count": 4,
   "metadata": {},
   "outputs": [],
   "source": [
    "#html불러오기\n",
    "original_html = requests.get(url)\n",
    "html = BeautifulSoup(original_html.text, \"html.parser\")"
   ]
  },
  {
   "cell_type": "code",
   "execution_count": 5,
   "metadata": {},
   "outputs": [
    {
     "name": "stdout",
     "output_type": "stream",
     "text": [
      "[<a class=\"news_tit\" href=\"http://www.busan.com/view/busan/view.php?code=2022012612170296052\" onclick=\"return goOtherCR(this, 'a=nws*a.tit&amp;r=1&amp;i=880000CE_000000000000000001138673&amp;g=082.0001138673&amp;u='+urlencode(this.href));\" target=\"_blank\" title=\"'최대 4%포인트 추가 금리' 청년희망적금 다음달 21일 출시\">'최대 4%포인트 추가 <mark>금리</mark>' 청년희망적금 다음달 21일 출시</a>, <a class=\"news_tit\" href=\"http://yna.kr/AKR20220126151051002?did=1195m\" onclick=\"return goOtherCR(this, 'a=nws*a.tit&amp;r=6&amp;i=880000D8_000000000000000012943595&amp;g=001.0012943595&amp;u='+urlencode(this.href));\" target=\"_blank\" title=\"국고채 금리 대체로 하락…3년물 연 2.156%로 내려(종합)\">국고채 <mark>금리</mark> 대체로 하락…3년물 연 2.156%로 내려(종합)</a>, <a class=\"news_tit\" href=\"http://www.fnnews.com/news/202201261805484802\" onclick=\"return goOtherCR(this, 'a=nws*j.tit&amp;r=8&amp;i=880000FF_000000000000000004779216&amp;g=014.0004779216&amp;u='+urlencode(this.href));\" target=\"_blank\" title='\"연준, 내년까지 공격적 긴축…2024년 금리 2.4% 갈것\"'>\"연준, 내년까지 공격적 긴축…2024년 <mark>금리</mark> 2.4% 갈것\"</a>, <a class=\"news_tit\" href=\"https://biz.sbs.co.kr/article_hub/20000048362?division=NAVER\" onclick=\"return goOtherCR(this, 'a=nws*h.tit&amp;r=9&amp;i=8811AD97_000000000000000000273282&amp;g=374.0000273282&amp;u='+urlencode(this.href));\" target=\"_blank\" title=\"은행 대출 금리 인하에 ‘마통’ 한도 복원 시작\">은행 대출 <mark>금리</mark> 인하에 ‘마통’ 한도 복원 시작</a>, <a class=\"news_tit\" href=\"http://www.newsis.com/view/?id=NISX20220126_0001737875&amp;cID=10401&amp;pID=10400\" onclick=\"return goOtherCR(this, 'a=nws*j.tit&amp;r=11&amp;i=88000127_000000000000000010966818&amp;g=003.0010966818&amp;u='+urlencode(this.href));\" target=\"_blank\" title=\"국민은행, 혼합형 주담대 금리 0.3%p↓\">국민은행, 혼합형 주담대 <mark>금리</mark> 0.3%p↓</a>, <a class=\"news_tit\" href=\"http://news.heraldcorp.com/view.php?ud=20220126000048\" onclick=\"return goOtherCR(this, 'a=nws*a.tit&amp;r=12&amp;i=8800010E_000000000000000001942683&amp;g=016.0001942683&amp;u='+urlencode(this.href));\" target=\"_blank\" title=\"‘금리 오른다’ 역대 최고…집값은 5개월째 하락 전망\">‘<mark>금리</mark> 오른다’ 역대 최고…집값은 5개월째 하락 전망</a>, <a class=\"news_tit\" href=\"https://economist.co.kr/2022/01/26/finance/insurance/20220126080004720.html\" onclick=\"return goOtherCR(this, 'a=nws*j.tit&amp;r=15&amp;i=880002EC_000000000000000000021987&amp;g=243.0000021987&amp;u='+urlencode(this.href));\" target=\"_blank\" title=\"금리 상승기에도 ‘보험 약관대출’ 금리 하락…대출 적기?\"><mark>금리</mark> 상승기에도 ‘보험 약관대출’ <mark>금리</mark> 하락…대출 적기?</a>, <a class=\"news_tit\" href=\"http://www.newsis.com/view/?id=NISX20220124_0001735760&amp;cID=15001&amp;pID=15000\" onclick=\"return goOtherCR(this, 'a=nws*h.tit&amp;r=16&amp;i=88000127_000000000000000010963701&amp;g=003.0010963701&amp;u='+urlencode(this.href));\" target=\"_blank\" title=\"1·2금융권 대출 금리역전 현상 확산하나\">1·2금융권 대출 <mark>금리</mark>역전 현상 확산하나</a>, <a class=\"news_tit\" href=\"http://www.fnnews.com/news/202201261817381874\" onclick=\"return goOtherCR(this, 'a=nws*h.tit&amp;r=18&amp;i=880000FF_000000000000000004779239&amp;g=014.0004779239&amp;u='+urlencode(this.href));\" target=\"_blank\" title=\"'FOMC 끝' 美 금리 불확실성 걷힌 증시… 바닥 찍을까\">'FOMC 끝' 美 <mark>금리</mark> 불확실성 걷힌 증시… 바닥 찍을까</a>, <a class=\"news_tit\" href=\"https://www.hankyung.com/economy/article/2022012663711\" onclick=\"return goOtherCR(this, 'a=nws*h.tit&amp;r=20&amp;i=88000107_000000000000000004657507&amp;g=015.0004657507&amp;u='+urlencode(this.href));\" target=\"_blank\" title=\"美 금리인상 때마다 나스닥은 더 뛰었다\">美 <mark>금리</mark>인상 때마다 나스닥은 더 뛰었다</a>]\n",
      "10 개의 기사가 검색됌.\n"
     ]
    }
   ],
   "source": [
    "# 검색결과\n",
    "articles = html.select(\"div.group_news > ul.list_news > li div.news_area > a\")\n",
    "print(articles)\n",
    "# 검색된 기사의 갯수\n",
    "print(len(articles),\"개의 기사가 검색됌.\")"
   ]
  },
  {
   "cell_type": "code",
   "execution_count": 6,
   "metadata": {},
   "outputs": [
    {
     "data": {
      "text/plain": [
       "[\"'최대 4%포인트 추가 금리' 청년희망적금 다음달 21일 출시\",\n",
       " '국고채 금리 대체로 하락…3년물 연 2.156%로 내려(종합)',\n",
       " '\"연준, 내년까지 공격적 긴축…2024년 금리 2.4% 갈것\"',\n",
       " '은행 대출 금리 인하에 ‘마통’ 한도 복원 시작',\n",
       " '국민은행, 혼합형 주담대 금리 0.3%p↓',\n",
       " '‘금리 오른다’ 역대 최고…집값은 5개월째 하락 전망',\n",
       " '금리 상승기에도 ‘보험 약관대출’ 금리 하락…대출 적기?',\n",
       " '1·2금융권 대출 금리역전 현상 확산하나',\n",
       " \"'FOMC 끝' 美 금리 불확실성 걷힌 증시… 바닥 찍을까\",\n",
       " '美 금리인상 때마다 나스닥은 더 뛰었다']"
      ]
     },
     "execution_count": 6,
     "metadata": {},
     "output_type": "execute_result"
    }
   ],
   "source": [
    "#뉴스기사 제목 가져오기\n",
    "news_title = []\n",
    "for i in articles:\n",
    "    news_title.append(i.attrs['title'])\n",
    "news_title"
   ]
  },
  {
   "cell_type": "code",
   "execution_count": 7,
   "metadata": {},
   "outputs": [
    {
     "data": {
      "text/plain": [
       "['http://www.busan.com/view/busan/view.php?code=2022012612170296052',\n",
       " 'http://yna.kr/AKR20220126151051002?did=1195m',\n",
       " 'http://www.fnnews.com/news/202201261805484802',\n",
       " 'https://biz.sbs.co.kr/article_hub/20000048362?division=NAVER',\n",
       " 'http://www.newsis.com/view/?id=NISX20220126_0001737875&cID=10401&pID=10400',\n",
       " 'http://news.heraldcorp.com/view.php?ud=20220126000048',\n",
       " 'https://economist.co.kr/2022/01/26/finance/insurance/20220126080004720.html',\n",
       " 'http://www.newsis.com/view/?id=NISX20220124_0001735760&cID=15001&pID=15000',\n",
       " 'http://www.fnnews.com/news/202201261817381874',\n",
       " 'https://www.hankyung.com/economy/article/2022012663711']"
      ]
     },
     "execution_count": 7,
     "metadata": {},
     "output_type": "execute_result"
    }
   ],
   "source": [
    "#뉴스기사 URL 가져오기\n",
    "news_url = []\n",
    "for i in articles:\n",
    "    news_url.append(i.attrs['href'])\n",
    "news_url"
   ]
  },
  {
   "cell_type": "code",
   "execution_count": 11,
   "metadata": {},
   "outputs": [
    {
     "name": "stdout",
     "output_type": "stream",
     "text": [
      "http://www.busan.com/view/busan/view.php?code=2022012612170296052\n",
      "http://yna.kr/AKR20220126151051002?did=1195m\n",
      "http://www.fnnews.com/news/202201261805484802\n",
      "https://biz.sbs.co.kr/article_hub/20000048362?division=NAVER\n",
      "http://www.newsis.com/view/?id=NISX20220126_0001737875&cID=10401&pID=10400\n",
      "http://news.heraldcorp.com/view.php?ud=20220126000048\n",
      "https://economist.co.kr/2022/01/26/finance/insurance/20220126080004720.html\n",
      "http://www.newsis.com/view/?id=NISX20220124_0001735760&cID=15001&pID=15000\n",
      "http://www.fnnews.com/news/202201261817381874\n",
      "https://www.hankyung.com/economy/article/2022012663711\n"
     ]
    }
   ],
   "source": [
    "for article in articles:\n",
    "    print(article.attrs['href'])"
   ]
  },
  {
   "cell_type": "code",
   "execution_count": null,
   "metadata": {},
   "outputs": [],
   "source": [
    "#뉴스기사 내용 크롤링하기\n",
    "contents = []\n",
    "for i in news_url:\n",
    "    #각 기사 html get하기\n",
    "    news = requests.get(i)\n",
    "    news_html = BeautifulSoup(news.text,\"html.parser\")\n",
    "    #기사 내용 가져오기 (p태그의 내용 모두 가져오기) \n",
    "    contents.append(news_html.find_all('p'))\n",
    "contents"
   ]
  },
  {
   "cell_type": "code",
   "execution_count": null,
   "metadata": {},
   "outputs": [],
   "source": []
  }
 ],
 "metadata": {
  "kernelspec": {
   "display_name": "Python 3",
   "language": "python",
   "name": "python3"
  },
  "language_info": {
   "codemirror_mode": {
    "name": "ipython",
    "version": 3
   },
   "file_extension": ".py",
   "mimetype": "text/x-python",
   "name": "python",
   "nbconvert_exporter": "python",
   "pygments_lexer": "ipython3",
   "version": "3.7.1"
  }
 },
 "nbformat": 4,
 "nbformat_minor": 2
}
