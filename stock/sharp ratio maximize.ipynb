{
 "cells": [
  {
   "cell_type": "markdown",
   "metadata": {},
   "source": [
    "# sharp ratio maximize"
   ]
  },
  {
   "cell_type": "code",
   "execution_count": 1,
   "metadata": {
    "ExecuteTime": {
     "end_time": "2022-02-26T23:48:43.035464Z",
     "start_time": "2022-02-26T23:48:42.408007Z"
    }
   },
   "outputs": [],
   "source": [
    "import pandas as pd\n",
    "import numpy as np\n",
    "from datetime import datetime,timedelta\n",
    "from dateutil.relativedelta import relativedelta\n",
    "from collections import Counter\n",
    "import calendar\n",
    "import random\n",
    "import warnings\n",
    "import functools\n",
    "\n",
    "from matplotlib import pyplot as plt\n",
    "import matplotlib.font_manager as fm"
   ]
  },
  {
   "cell_type": "code",
   "execution_count": 2,
   "metadata": {
    "ExecuteTime": {
     "end_time": "2022-02-26T23:48:43.051390Z",
     "start_time": "2022-02-26T23:48:43.041442Z"
    }
   },
   "outputs": [],
   "source": [
    "def make_simul_port(len=5,num=2000):\n",
    "    list_simul = []\n",
    "    for i in range(num):\n",
    "        tmp = random.sample(range(1, 100), len)\n",
    "        weight = tmp/np.sum(tmp)\n",
    "        list_simul.append(weight)\n",
    "    return(list_simul)"
   ]
  },
  {
   "cell_type": "code",
   "execution_count": 3,
   "metadata": {
    "ExecuteTime": {
     "end_time": "2022-02-26T23:48:43.066742Z",
     "start_time": "2022-02-26T23:48:43.053199Z"
    }
   },
   "outputs": [],
   "source": [
    "def shape_portpolio(next_day,simul = 2000):\n",
    "\n",
    "    tmp = asset_factor[asset_factor.date==str(next_day)[0:10]].iloc[0][1:]\n",
    "    next_list = list(tmp[tmp.notnull()].index)\n",
    "    weight_list = make_simul_port(len=len(next_list),num=simul)\n",
    "    tmp_price = change_price2[change_price2.date < next_day]\n",
    "    weight_df = pd.DataFrame(weight_list,columns=next_list)\n",
    "\n",
    "    # simulation\n",
    "    port_volatility_list = []\n",
    "    portfolioSimpleAnuualReturn_list = []\n",
    "    sharpe_ratio_list = []\n",
    "\n",
    "    for i in weight_list:    \n",
    "        cov_matric_annual = tmp_price[next_list].cov() * 252\n",
    "        port_variance = np.dot(i, np.dot(cov_matric_annual,i))\n",
    "        port_volatility = np.sqrt(port_variance)\n",
    "\n",
    "        portfolioSimpleAnuualReturn = np.sum(tmp_price[next_list].mean() * i) * 252\n",
    "        sharpe_ratio = portfolioSimpleAnuualReturn/port_volatility\n",
    "\n",
    "        port_volatility_list.append(port_volatility)\n",
    "        portfolioSimpleAnuualReturn_list.append(portfolioSimpleAnuualReturn)\n",
    "        sharpe_ratio_list.append(sharpe_ratio)\n",
    "\n",
    "    weight_df['risk'] = port_volatility_list\n",
    "    weight_df['return'] = portfolioSimpleAnuualReturn_list\n",
    "    weight_df['sharpe'] = sharpe_ratio_list\n",
    "    max_sharpe = weight_df.loc[weight_df['sharpe'] == weight_df['sharpe'].max()]\n",
    "    min_risk = weight_df.loc[weight_df['risk'] == weight_df['risk'].min()]\n",
    "\n",
    "    return (weight_df,max_sharpe, min_risk)"
   ]
  },
  {
   "cell_type": "code",
   "execution_count": 4,
   "metadata": {
    "ExecuteTime": {
     "end_time": "2022-02-26T23:48:43.081782Z",
     "start_time": "2022-02-26T23:48:43.068461Z"
    }
   },
   "outputs": [],
   "source": [
    "# next_day = datetime.strptime('2020-01-03','%Y-%m-%d')\n",
    "# tmp_sharpe = shape_portpolio(next_day,simul = 20000)\n",
    "# weight_df = tmp_sharpe[0]; max_sharpe = tmp_sharpe[1]; min_risk = tmp_sharpe[2]"
   ]
  },
  {
   "cell_type": "code",
   "execution_count": 5,
   "metadata": {
    "ExecuteTime": {
     "end_time": "2022-02-26T23:48:43.172660Z",
     "start_time": "2022-02-26T23:48:43.167645Z"
    }
   },
   "outputs": [],
   "source": [
    "# fig, ax = plt.subplots()\n",
    "# weight_df.plot.scatter(x='risk', y='return', c='sharpe', cmap = 'viridis',edgecolors='k', grid=True, ax = ax)\n",
    "# plt.scatter(x=min_risk['risk'], y=min_risk['return'], c='r', marker='X', s=200)\n",
    "# plt.scatter(x=max_sharpe['risk'], y=max_sharpe['return'], c='r', marker='*', s=300)\n",
    "\n",
    "# plt.title(\"Efficient Frontier\")\n",
    "# plt.ylabel('Expected Returns')\n",
    "# plt.xlabel('Risk')\n",
    "# plt.show()"
   ]
  }
 ],
 "metadata": {
  "kernelspec": {
   "display_name": "Python 3",
   "language": "python",
   "name": "python3"
  },
  "language_info": {
   "codemirror_mode": {
    "name": "ipython",
    "version": 3
   },
   "file_extension": ".py",
   "mimetype": "text/x-python",
   "name": "python",
   "nbconvert_exporter": "python",
   "pygments_lexer": "ipython3",
   "version": "3.7.1"
  },
  "toc": {
   "base_numbering": 1,
   "nav_menu": {},
   "number_sections": true,
   "sideBar": true,
   "skip_h1_title": false,
   "title_cell": "Table of Contents",
   "title_sidebar": "Contents",
   "toc_cell": false,
   "toc_position": {},
   "toc_section_display": true,
   "toc_window_display": false
  }
 },
 "nbformat": 4,
 "nbformat_minor": 2
}
