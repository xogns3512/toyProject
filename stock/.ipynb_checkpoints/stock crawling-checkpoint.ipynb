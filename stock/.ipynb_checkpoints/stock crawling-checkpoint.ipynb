{
 "cells": [
  {
   "cell_type": "markdown",
   "metadata": {},
   "source": [
    "## finance datareader\n",
    "- library 사용해서 데이터 가져오기\n",
    "- pip install finance-datareader  \n",
    "- https://github.com/FinanceData/FinanceDataReader\n",
    "- https://financedata.github.io/posts/finance-data-reader-users-guide.html"
   ]
  },
  {
   "cell_type": "code",
   "execution_count": 1,
   "metadata": {},
   "outputs": [],
   "source": [
    "from matplotlib import pyplot as plt"
   ]
  },
  {
   "cell_type": "code",
   "execution_count": 2,
   "metadata": {},
   "outputs": [],
   "source": [
    "import FinanceDataReader as fdr\n",
    "df_krx = fdr.StockListing('KRX')"
   ]
  },
  {
   "cell_type": "code",
   "execution_count": 3,
   "metadata": {},
   "outputs": [],
   "source": [
    "# 삼성전자(005930) 전체 (1996-11-05 ~ 현재)\n",
    "df = fdr.DataReader('005930')"
   ]
  },
  {
   "cell_type": "code",
   "execution_count": 4,
   "metadata": {},
   "outputs": [],
   "source": [
    "# 애플(AAPL), 2017년\n",
    "df = fdr.DataReader('AAPL', '2017')\n",
    "df = df.reset_index()"
   ]
  },
  {
   "cell_type": "code",
   "execution_count": 5,
   "metadata": {},
   "outputs": [
    {
     "data": {
      "text/plain": [
       "0      2017-01-03\n",
       "1      2017-01-04\n",
       "2      2017-01-05\n",
       "3      2017-01-06\n",
       "4      2017-01-09\n",
       "5      2017-01-10\n",
       "6      2017-01-11\n",
       "7      2017-01-12\n",
       "8      2017-01-13\n",
       "9      2017-01-17\n",
       "10     2017-01-18\n",
       "11     2017-01-19\n",
       "12     2017-01-20\n",
       "13     2017-01-23\n",
       "14     2017-01-24\n",
       "15     2017-01-25\n",
       "16     2017-01-26\n",
       "17     2017-01-27\n",
       "18     2017-01-30\n",
       "19     2017-01-31\n",
       "20     2017-02-01\n",
       "21     2017-02-02\n",
       "22     2017-02-03\n",
       "23     2017-02-06\n",
       "24     2017-02-07\n",
       "25     2017-02-08\n",
       "26     2017-02-09\n",
       "27     2017-02-10\n",
       "28     2017-02-13\n",
       "29     2017-02-14\n",
       "          ...    \n",
       "1248   2021-12-16\n",
       "1249   2021-12-17\n",
       "1250   2021-12-20\n",
       "1251   2021-12-21\n",
       "1252   2021-12-22\n",
       "1253   2021-12-23\n",
       "1254   2021-12-27\n",
       "1255   2021-12-28\n",
       "1256   2021-12-29\n",
       "1257   2021-12-30\n",
       "1258   2021-12-31\n",
       "1259   2022-01-03\n",
       "1260   2022-01-04\n",
       "1261   2022-01-05\n",
       "1262   2022-01-06\n",
       "1263   2022-01-07\n",
       "1264   2022-01-10\n",
       "1265   2022-01-11\n",
       "1266   2022-01-12\n",
       "1267   2022-01-13\n",
       "1268   2022-01-14\n",
       "1269   2022-01-18\n",
       "1270   2022-01-19\n",
       "1271   2022-01-20\n",
       "1272   2022-01-21\n",
       "1273   2022-01-24\n",
       "1274   2022-01-25\n",
       "1275   2022-01-26\n",
       "1276   2022-01-27\n",
       "1277   2022-01-28\n",
       "Name: Date, Length: 1278, dtype: datetime64[ns]"
      ]
     },
     "execution_count": 5,
     "metadata": {},
     "output_type": "execute_result"
    }
   ],
   "source": [
    "df['Date']"
   ]
  },
  {
   "cell_type": "code",
   "execution_count": 7,
   "metadata": {},
   "outputs": [
    {
     "data": {
      "image/png": "[encoded data removed]",
      "text/plain": [
       "<Figure size 432x288 with 1 Axes>"
      ]
     },
     "metadata": {
      "needs_background": "light"
     },
     "output_type": "display_data"
    }
   ],
   "source": [
    "fig, ax = plt.subplots()\n",
    "\n",
    "ax.plot(df['Date'],(df['Close']),label='C')\n",
    "plt.show()"
   ]
  },
  {
   "cell_type": "code",
   "execution_count": null,
   "metadata": {},
   "outputs": [],
   "source": []
  }
 ],
 "metadata": {
  "kernelspec": {
   "display_name": "Python 3",
   "language": "python",
   "name": "python3"
  },
  "language_info": {
   "codemirror_mode": {
    "name": "ipython",
    "version": 3
   },
   "file_extension": ".py",
   "mimetype": "text/x-python",
   "name": "python",
   "nbconvert_exporter": "python",
   "pygments_lexer": "ipython3",
   "version": "3.7.1"
  }
 },
 "nbformat": 4,
 "nbformat_minor": 2
}
