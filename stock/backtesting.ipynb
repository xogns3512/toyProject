{
 "cells": [
  {
   "cell_type": "markdown",
   "metadata": {},
   "source": [
    "<a id = '구성전략'></a>\n",
    "## 구성 전략 및 위기관리 전략\n",
    "\n",
    "### 구성전략\n",
    "\n",
    "- <strong>수익률 확인</strong>\n",
    "    - 이전 스텝의 포트폴리오를 확인한다.\n",
    "    - 이전 스텝의 포트폴리오의 현재 수익률과 수익총액을 확인한다.\n",
    "    - 이전 스텝의 총 자산금액을 5(top5)로 나누거나, 가중치에 따라 포트폴리오의 자산별 구매금액을 확인한다.\n",
    "        - 이때 자산별 구매금액을 `종목비중금액`(thres)이라고 하자."
   ]
  },
  {
   "cell_type": "markdown",
   "metadata": {},
   "source": [
    "- <strong>포트폴리오 리밸런싱</strong>\n",
    "    - 다음 스텝의 포트폴리오를 확인한다.\n",
    "    - sell\n",
    "        - 유지 종목중 종목비중금액 기준보다 높은 가격을 가지고 잇는 주식은 여유분을 판매\n",
    "        - 유지되지 않는 종목은 전 종목을 모두 판매\n",
    "        - 판매한 금액은 예치금(bank)에 저장해둔다.\n",
    "    - buy\n",
    "        - 유지되지만 종목비중금액 기준을 넘지 않는 종목은 예치금을 통해 부족분을 구매한다.\n",
    "        - 새롭게 추가되는 종목은 예치금에서 종목비중금액 기준이 부족하지 않은만큼 구매한다. \n",
    "        - 예치금이 부족하다면, 상위 모멘텀 종목부터 구매할 수 있도록 한다.\n",
    "    - 수수료\n",
    "        - 판매(sell)이나 구매(buy)를 할때마다 각 금액별 수수료를 계산해 차감하도록 한다.\n",
    "        - 수수료는 0.015%를 기준으로 판매,구매를 수행한다.  \n",
    "    - 위기관리\n",
    "        - 위험구간으로 판단되는 구간에서는 보유자산의 50%를 예치금에 넣어두고 위기구간이 끝나기 전까지 사용하지 않는다.\n",
    "        - 나머지 50%금액으로는 이전과 동일하게 리밸런싱을 수행한다.\n",
    "        "
   ]
  },
  {
   "cell_type": "code",
   "execution_count": 1,
   "metadata": {
    "ExecuteTime": {
     "end_time": "2022-02-26T23:42:09.869307Z",
     "start_time": "2022-02-26T23:42:09.449383Z"
    }
   },
   "outputs": [],
   "source": [
    "import pandas as pd"
   ]
  },
  {
   "cell_type": "code",
   "execution_count": 2,
   "metadata": {
    "ExecuteTime": {
     "end_time": "2022-02-26T23:42:09.884265Z",
     "start_time": "2022-02-26T23:42:09.876288Z"
    }
   },
   "outputs": [],
   "source": [
    "def profit_calcul(profit_table,change_price,next_day):\n",
    "    profit_list=[]\n",
    "    for i in profit_table.stock:\n",
    "        \n",
    "        #  종목이 없을 경우에는 pass.\n",
    "        if pd.isnull(i):\n",
    "            profit_list.append([np.nan,0])\n",
    "        \n",
    "        #  가격 변동량 기반으로 시장가치를 측정.\n",
    "        else:\n",
    "            market_value = profit_table[profit_table.stock==i].profit.values[0]\n",
    "            single_today_profit = market_value * change_price[change_price.date==next_day][i].values[0]\n",
    "            profit_list.append([i,single_today_profit])\n",
    "    profit_table = pd.DataFrame(profit_list,columns=[\"stock\",\"profit\"])\n",
    "            \n",
    "    return profit_table"
   ]
  },
  {
   "cell_type": "code",
   "execution_count": 3,
   "metadata": {
    "ExecuteTime": {
     "end_time": "2022-02-26T23:42:09.899131Z",
     "start_time": "2022-02-26T23:42:09.886259Z"
    }
   },
   "outputs": [],
   "source": [
    "# 판매 전용 function\n",
    "def sell(profit_table,next_list,bank,fee=0.00015,anomaly = False,weight=pd.DataFrame([])):\n",
    "\n",
    "    # 현재 보유종목, 이후 유지종목\n",
    "    today_list = list(profit_table.stock)\n",
    "    keep_list = list(set.intersection(set(today_list), set(next_list)))\n",
    "    \n",
    "    # 아직 투자가 진행되지 않은 상황에서는 기본값을 리턴한다.\n",
    "    if pd.isnull(today_list[0]):\n",
    "        return (profit_table.reset_index(drop=True), bank, None)\n",
    "    \n",
    "    # 이상구간으로 판정되었을때 수익구간의 수익을 분배해준다.\n",
    "    if anomaly == True:\n",
    "        total_profit = np.sum(profit_table.profit) * 0.5\n",
    "    else:\n",
    "        total_profit = np.sum(profit_table.profit)\n",
    "        \n",
    "    # 새롭게 각 종목별 동일 비중으로 분배할 금액\n",
    "    new_divide = total_profit/len(next_list)\n",
    "    \n",
    "    # 종목별 처리(판매)\n",
    "    for i in today_list:\n",
    "        \n",
    "        # weight에 의한 divide 계산\n",
    "        if len(weight)!=0:\n",
    "            new_divide = total_profit * weight[i]\n",
    "        else:\n",
    "            new_divide = total_profit/len(next_list)\n",
    "            \n",
    "        # 초기 단계일 경우 단계를 건너뛴다.\n",
    "        if pd.isnull(i): continue\n",
    "            \n",
    "        # 종목 시장가치\n",
    "        market_value = profit_table[profit_table.stock==i].profit.values[0]\n",
    "\n",
    "        # 유지되는 종목 밸런스 확인\n",
    "        if i in keep_list:\n",
    "            # 유지종목의 가격이 높은 가격을 가지고 있는 경우 여유분 판매\n",
    "            if market_value > new_divide:\n",
    "                profit = market_value - new_divide\n",
    "                margin = profit * (1-fee)\n",
    "                bank += margin\n",
    "                # profit 재계산\n",
    "                profit_table.loc[profit_table['stock'] == i, 'profit'] = new_divide\n",
    "                \n",
    "            # 유지는 하지만 그닥 높은 가격이 아닐경우에는 추가판매 없음\n",
    "            else:\n",
    "                pass\n",
    "\n",
    "        # 유지되지 않는 종목 일괄 판매\n",
    "        else:\n",
    "            margin = market_value * (1-fee)\n",
    "            bank += margin\n",
    "            # 일괄 판매 종목 리스트제거\n",
    "            profit_table = profit_table[profit_table.stock != i]\n",
    "    \n",
    "    return(profit_table.reset_index(drop=True), bank, new_divide)"
   ]
  },
  {
   "cell_type": "code",
   "execution_count": 4,
   "metadata": {
    "ExecuteTime": {
     "end_time": "2022-02-26T23:42:10.218710Z",
     "start_time": "2022-02-26T23:42:10.208738Z"
    }
   },
   "outputs": [],
   "source": [
    "def buy(profit_table, next_list, bank, new_divide=None,fee=0.00015,weight=pd.DataFrame([])):\n",
    "    \n",
    "    # 현재 보유종목, 이후 유지종목\n",
    "    today_list = list(profit_table.stock)\n",
    "    keep_list = list(set.intersection(set(today_list),set(next_list)))\n",
    "    \n",
    "    # null check point\n",
    "    if len(profit_table)==0: \n",
    "        null_checkpoint='all_sell'\n",
    "    else: \n",
    "        null_checkpoint = profit_table.stock[0]\n",
    "    \n",
    "    # 포트폴리오 투자 활성화 전에는 function을 종료한다. (현재스텝 x, 다음스텝 포트폴리오 x)\n",
    "    if pd.isnull(null_checkpoint) and (len(next_list)==0):\n",
    "        return profit_table, bank\n",
    "    # 첫투자 활성화를 위해서 포트폴리오를 초기화한다. (현재스텝 x, 다음스텝 포트폴리오 o)\n",
    "    elif pd.isnull(null_checkpoint) and  (len(next_list)!=0):\n",
    "        profit_table = profit_table[0:0]\n",
    "        new_divide = bank / len(next_list)\n",
    "    # 그 외에는 정상적으로 리밸런싱 구매를 진행.\n",
    "    else:\n",
    "        new_divide = (new_divide*len(next_list) + bank)/len(next_list)\n",
    "             \n",
    "    # 구매 프로세스 시작 \n",
    "    for i in next_list:\n",
    "        \n",
    "        # weight에 의한 new_divide 계산\n",
    "        if len(weight)!=0:\n",
    "            new_divide =  (np.sum(profit_table.profit)+ bank/(1-fee) ) * weight[i]\n",
    "        else:\n",
    "            pass\n",
    "        \n",
    "        # 유지되는 종목\n",
    "        if (i in keep_list):\n",
    "            \n",
    "            # 현재 시장가치 \n",
    "            market_value = profit_table[profit_table.stock==i].profit.values[0]\n",
    "            \n",
    "            # 유지종목의 가격이 높은 가격을 가지고 있는 경우 리밸런싱\n",
    "            if market_value < new_divide:\n",
    "                \n",
    "                # 구매해야하는돈이 뱅크에 충분한 경우\n",
    "                if (new_divide - market_value) < bank:\n",
    "                    order = new_divide - market_value\n",
    "                    buy = order * (1-fee)\n",
    "                    bank -= order\n",
    "                    profit_table.loc[profit_table['stock'] == i, 'profit'] = market_value + buy\n",
    "                    \n",
    "                # 구매해야하는 돈이 뱅크만큼 없는 경우\n",
    "                else:\n",
    "                    order = bank\n",
    "                    buy = order * (1-fee)\n",
    "                    bank = 0 \n",
    "                    profit_table.loc[profit_table['stock']==i, 'profit'] = market_value + buy\n",
    "                    \n",
    "            # 유지종목의 가격이 충분한 경우 (이미 sell 단계에서 처리됨)\n",
    "            else:\n",
    "                pass\n",
    "\n",
    "        # 새롭게 추가되는 종목은 일괄 구매\n",
    "        else:\n",
    "            order = min(bank, new_divide)\n",
    "            buy = order * (1-fee)\n",
    "            bank -= order\n",
    "            profit_table = profit_table.append({'stock':i, 'profit':buy},ignore_index = True)\n",
    "            \n",
    "    return(profit_table.reset_index(drop=True), bank)"
   ]
  }
 ],
 "metadata": {
  "kernelspec": {
   "display_name": "Python 3",
   "language": "python",
   "name": "python3"
  },
  "language_info": {
   "codemirror_mode": {
    "name": "ipython",
    "version": 3
   },
   "file_extension": ".py",
   "mimetype": "text/x-python",
   "name": "python",
   "nbconvert_exporter": "python",
   "pygments_lexer": "ipython3",
   "version": "3.7.1"
  },
  "toc": {
   "base_numbering": 1,
   "nav_menu": {},
   "number_sections": true,
   "sideBar": true,
   "skip_h1_title": false,
   "title_cell": "Table of Contents",
   "title_sidebar": "Contents",
   "toc_cell": false,
   "toc_position": {},
   "toc_section_display": true,
   "toc_window_display": false
  }
 },
 "nbformat": 4,
 "nbformat_minor": 2
}
